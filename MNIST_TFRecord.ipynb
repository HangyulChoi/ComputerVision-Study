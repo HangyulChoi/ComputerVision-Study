{
  "nbformat": 4,
  "nbformat_minor": 0,
  "metadata": {
    "colab": {
      "name": "MNIST_TFRecord(실습).ipynb",
      "provenance": [],
      "collapsed_sections": [],
      "toc_visible": true
    },
    "kernelspec": {
      "name": "python3",
      "display_name": "Python 3"
    }
  },
  "cells": [
    {
      "cell_type": "code",
      "metadata": {
        "id": "Sd2egiErR57o"
      },
      "source": [
        "import tensorflow as tf\n",
        "import os\n",
        "import numpy as np"
      ],
      "execution_count": 1,
      "outputs": []
    },
    {
      "cell_type": "code",
      "metadata": {
        "id": "vr015S4KR8rH"
      },
      "source": [
        "import tensorflow_datasets as tfds\n",
        "AUTOTUNE = tf.data.experimental.AUTOTUNE"
      ],
      "execution_count": 2,
      "outputs": []
    },
    {
      "cell_type": "code",
      "metadata": {
        "id": "xURUFaPwSVh-"
      },
      "source": [
        "ds = tfds.load('mnist', shuffle_files=True, as_supervised=True)"
      ],
      "execution_count": 3,
      "outputs": []
    },
    {
      "cell_type": "code",
      "metadata": {
        "id": "79Z_VbCnScgb",
        "colab": {
          "base_uri": "https://localhost:8080/"
        },
        "outputId": "d6d42f1e-40a0-4d56-db04-c874aa0a0e73"
      },
      "source": [
        "ds['test'].cardinality()"
      ],
      "execution_count": 4,
      "outputs": [
        {
          "output_type": "execute_result",
          "data": {
            "text/plain": [
              "<tf.Tensor: shape=(), dtype=int64, numpy=10000>"
            ]
          },
          "metadata": {
            "tags": []
          },
          "execution_count": 4
        }
      ]
    },
    {
      "cell_type": "code",
      "metadata": {
        "id": "3gyexCQpTJrR"
      },
      "source": [
        "ds_splits = [\"train\", \"test\"]"
      ],
      "execution_count": 5,
      "outputs": []
    },
    {
      "cell_type": "markdown",
      "metadata": {
        "id": "kyjHA8eXUipj"
      },
      "source": [
        "## tf.train.Feature list 구성 및 직렬화"
      ]
    },
    {
      "cell_type": "code",
      "metadata": {
        "id": "QRCkHL5RXSyY"
      },
      "source": [
        "def _bytes_feature(value):\n",
        "    \"\"\"Returns a bytes_list from a string / byte.\"\"\"\n",
        "    if isinstance(value, type(tf.constant(0))):\n",
        "        value = value.numpy()\n",
        "    return tf.train.Feature(bytes_list=tf.train.BytesList(value=[value]))\n",
        "\n",
        "def _float_feature(value):\n",
        "  \"\"\"Returns a floast_list from a float / double.\"\"\"\n",
        "  return tf.train.Feature(float_list=tf.train.FloatList(value=[value]))\n",
        "\n",
        "def _int64_feature(value):\n",
        "  \"\"\"Returns an int64_list from a bool / enum / int / uint.\"\"\"\n",
        "  return tf.train.Feature(int64_list=tf.train.Int64List(value=[value]))\n",
        "\n",
        "def serialize_array(array):\n",
        "  array = tf.io.serialize_tensor(array)\n",
        "  return array"
      ],
      "execution_count": 6,
      "outputs": []
    },
    {
      "cell_type": "code",
      "metadata": {
        "id": "VaW9AWWYSc7S",
        "colab": {
          "base_uri": "https://localhost:8080/"
        },
        "outputId": "b1e5dcf2-894b-4982-c2aa-19f00fe347da"
      },
      "source": [
        "for d in ds_splits:\n",
        "  print(\"saving {}\".format(d))\n",
        "  subset = ds[d]\n",
        "\n",
        "  filename = d+\".tfrecords\"\n",
        "  writer = tf.io.TFRecordWriter(filename)\n",
        "  count = 0\n",
        "  for image, label in subset:\n",
        "    data={\n",
        "        'height': _int64_feature(28),\n",
        "        'width': _int64_feature(28),\n",
        "        'depth': _int64_feature(1),\n",
        "        'label': _int64_feature(label),\n",
        "        'image_raw':_bytes_feature(serialize_array(image))\n",
        "        }\n",
        "\n",
        "    out = tf.train.Example(features=tf.train.Features(feature=data))\n",
        "    writer.write(out.SerializeToString())\n",
        "    count +=1\n",
        "  writer.close()\n",
        "  print(count)"
      ],
      "execution_count": 7,
      "outputs": [
        {
          "output_type": "stream",
          "text": [
            "saving train\n",
            "60000\n",
            "saving test\n",
            "10000\n"
          ],
          "name": "stdout"
        }
      ]
    },
    {
      "cell_type": "markdown",
      "metadata": {
        "id": "ZyHiZdJHUloW"
      },
      "source": [
        "## TFRecord feature 구성"
      ]
    },
    {
      "cell_type": "code",
      "metadata": {
        "id": "5Wa2_8utfVCs"
      },
      "source": [
        "def parse_tfr_elem(element):\n",
        "  parse_dict = {\n",
        "      'height': tf.io.FixedLenFeature([], tf.int64),\n",
        "      'width':tf.io.FixedLenFeature([], tf.int64),\n",
        "      'label':tf.io.FixedLenFeature([], tf.int64),\n",
        "      'depth':tf.io.FixedLenFeature([], tf.int64),\n",
        "      'image_raw' : tf.io.FixedLenFeature([], tf.string)\n",
        "  }\n",
        "  example_message = tf.io.parse_single_example(element, parse_dict)\n",
        "\n",
        "  img_raw = example_message['image_raw']\n",
        "  height = example_message['height']\n",
        "  width = example_message['width']\n",
        "  depth = example_message['depth']\n",
        "  label = example_message['label']\n",
        "  \n",
        "  feature = tf.io.parse_tensor(img_raw, out_type=tf.uint8)\n",
        "  feature = tf.reshape(feature, shape=[height,width,depth])\n",
        "  return (feature, label)"
      ],
      "execution_count": 8,
      "outputs": []
    },
    {
      "cell_type": "code",
      "metadata": {
        "id": "w7wSfuiuRC1L"
      },
      "source": [
        "def get_dataset(filename, set_type):\n",
        "    ignore_order = tf.data.Options()\n",
        "    ignore_order.experimental_deterministic = False\n",
        "    dataset = tf.data.TFRecordDataset(filename)\n",
        "    \n",
        "    dataset = dataset.with_options(\n",
        "        ignore_order\n",
        "    )  \n",
        "    \n",
        "    dataset = dataset.map(\n",
        "        parse_tfr_elem, num_parallel_calls=AUTOTUNE\n",
        "    )\n",
        "\n",
        "    dataset = dataset.shuffle(2048, reshuffle_each_iteration=True)\n",
        "    dataset = dataset.batch(BATCH_SIZE)\n",
        "    dataset = dataset.prefetch(buffer_size=AUTOTUNE)\n",
        "    dataset = dataset.repeat() if set_type =='train' else dataset \n",
        "    return dataset"
      ],
      "execution_count": 9,
      "outputs": []
    },
    {
      "cell_type": "code",
      "metadata": {
        "id": "YKcMEWVhxlt2"
      },
      "source": [
        "BATCH_SIZE = 32"
      ],
      "execution_count": 10,
      "outputs": []
    },
    {
      "cell_type": "code",
      "metadata": {
        "id": "Q_8WZfLVIHlD"
      },
      "source": [
        "tfr_dataset = get_dataset('train.tfrecords', \"train\")"
      ],
      "execution_count": 11,
      "outputs": []
    },
    {
      "cell_type": "code",
      "metadata": {
        "colab": {
          "base_uri": "https://localhost:8080/"
        },
        "id": "jpqWg9-VwnZ3",
        "outputId": "65ae0491-13c8-42eb-e6eb-fe7558eeb126"
      },
      "source": [
        "tfr_dataset"
      ],
      "execution_count": 12,
      "outputs": [
        {
          "output_type": "execute_result",
          "data": {
            "text/plain": [
              "<RepeatDataset shapes: ((None, None, None, None), (None,)), types: (tf.uint8, tf.int64)>"
            ]
          },
          "metadata": {
            "tags": []
          },
          "execution_count": 12
        }
      ]
    },
    {
      "cell_type": "code",
      "metadata": {
        "id": "ELbmtqnCQPhX",
        "colab": {
          "base_uri": "https://localhost:8080/"
        },
        "outputId": "fd23bb82-b70b-4e41-fc67-1fe3811f4fe8"
      },
      "source": [
        "for sample in tfr_dataset.take(1):\n",
        "  print(sample)"
      ],
      "execution_count": 13,
      "outputs": [
        {
          "output_type": "stream",
          "text": [
            "(<tf.Tensor: shape=(32, 28, 28, 1), dtype=uint8, numpy=\n",
            "array([[[[0],\n",
            "         [0],\n",
            "         [0],\n",
            "         ...,\n",
            "         [0],\n",
            "         [0],\n",
            "         [0]],\n",
            "\n",
            "        [[0],\n",
            "         [0],\n",
            "         [0],\n",
            "         ...,\n",
            "         [0],\n",
            "         [0],\n",
            "         [0]],\n",
            "\n",
            "        [[0],\n",
            "         [0],\n",
            "         [0],\n",
            "         ...,\n",
            "         [0],\n",
            "         [0],\n",
            "         [0]],\n",
            "\n",
            "        ...,\n",
            "\n",
            "        [[0],\n",
            "         [0],\n",
            "         [0],\n",
            "         ...,\n",
            "         [0],\n",
            "         [0],\n",
            "         [0]],\n",
            "\n",
            "        [[0],\n",
            "         [0],\n",
            "         [0],\n",
            "         ...,\n",
            "         [0],\n",
            "         [0],\n",
            "         [0]],\n",
            "\n",
            "        [[0],\n",
            "         [0],\n",
            "         [0],\n",
            "         ...,\n",
            "         [0],\n",
            "         [0],\n",
            "         [0]]],\n",
            "\n",
            "\n",
            "       [[[0],\n",
            "         [0],\n",
            "         [0],\n",
            "         ...,\n",
            "         [0],\n",
            "         [0],\n",
            "         [0]],\n",
            "\n",
            "        [[0],\n",
            "         [0],\n",
            "         [0],\n",
            "         ...,\n",
            "         [0],\n",
            "         [0],\n",
            "         [0]],\n",
            "\n",
            "        [[0],\n",
            "         [0],\n",
            "         [0],\n",
            "         ...,\n",
            "         [0],\n",
            "         [0],\n",
            "         [0]],\n",
            "\n",
            "        ...,\n",
            "\n",
            "        [[0],\n",
            "         [0],\n",
            "         [0],\n",
            "         ...,\n",
            "         [0],\n",
            "         [0],\n",
            "         [0]],\n",
            "\n",
            "        [[0],\n",
            "         [0],\n",
            "         [0],\n",
            "         ...,\n",
            "         [0],\n",
            "         [0],\n",
            "         [0]],\n",
            "\n",
            "        [[0],\n",
            "         [0],\n",
            "         [0],\n",
            "         ...,\n",
            "         [0],\n",
            "         [0],\n",
            "         [0]]],\n",
            "\n",
            "\n",
            "       [[[0],\n",
            "         [0],\n",
            "         [0],\n",
            "         ...,\n",
            "         [0],\n",
            "         [0],\n",
            "         [0]],\n",
            "\n",
            "        [[0],\n",
            "         [0],\n",
            "         [0],\n",
            "         ...,\n",
            "         [0],\n",
            "         [0],\n",
            "         [0]],\n",
            "\n",
            "        [[0],\n",
            "         [0],\n",
            "         [0],\n",
            "         ...,\n",
            "         [0],\n",
            "         [0],\n",
            "         [0]],\n",
            "\n",
            "        ...,\n",
            "\n",
            "        [[0],\n",
            "         [0],\n",
            "         [0],\n",
            "         ...,\n",
            "         [0],\n",
            "         [0],\n",
            "         [0]],\n",
            "\n",
            "        [[0],\n",
            "         [0],\n",
            "         [0],\n",
            "         ...,\n",
            "         [0],\n",
            "         [0],\n",
            "         [0]],\n",
            "\n",
            "        [[0],\n",
            "         [0],\n",
            "         [0],\n",
            "         ...,\n",
            "         [0],\n",
            "         [0],\n",
            "         [0]]],\n",
            "\n",
            "\n",
            "       ...,\n",
            "\n",
            "\n",
            "       [[[0],\n",
            "         [0],\n",
            "         [0],\n",
            "         ...,\n",
            "         [0],\n",
            "         [0],\n",
            "         [0]],\n",
            "\n",
            "        [[0],\n",
            "         [0],\n",
            "         [0],\n",
            "         ...,\n",
            "         [0],\n",
            "         [0],\n",
            "         [0]],\n",
            "\n",
            "        [[0],\n",
            "         [0],\n",
            "         [0],\n",
            "         ...,\n",
            "         [0],\n",
            "         [0],\n",
            "         [0]],\n",
            "\n",
            "        ...,\n",
            "\n",
            "        [[0],\n",
            "         [0],\n",
            "         [0],\n",
            "         ...,\n",
            "         [0],\n",
            "         [0],\n",
            "         [0]],\n",
            "\n",
            "        [[0],\n",
            "         [0],\n",
            "         [0],\n",
            "         ...,\n",
            "         [0],\n",
            "         [0],\n",
            "         [0]],\n",
            "\n",
            "        [[0],\n",
            "         [0],\n",
            "         [0],\n",
            "         ...,\n",
            "         [0],\n",
            "         [0],\n",
            "         [0]]],\n",
            "\n",
            "\n",
            "       [[[0],\n",
            "         [0],\n",
            "         [0],\n",
            "         ...,\n",
            "         [0],\n",
            "         [0],\n",
            "         [0]],\n",
            "\n",
            "        [[0],\n",
            "         [0],\n",
            "         [0],\n",
            "         ...,\n",
            "         [0],\n",
            "         [0],\n",
            "         [0]],\n",
            "\n",
            "        [[0],\n",
            "         [0],\n",
            "         [0],\n",
            "         ...,\n",
            "         [0],\n",
            "         [0],\n",
            "         [0]],\n",
            "\n",
            "        ...,\n",
            "\n",
            "        [[0],\n",
            "         [0],\n",
            "         [0],\n",
            "         ...,\n",
            "         [0],\n",
            "         [0],\n",
            "         [0]],\n",
            "\n",
            "        [[0],\n",
            "         [0],\n",
            "         [0],\n",
            "         ...,\n",
            "         [0],\n",
            "         [0],\n",
            "         [0]],\n",
            "\n",
            "        [[0],\n",
            "         [0],\n",
            "         [0],\n",
            "         ...,\n",
            "         [0],\n",
            "         [0],\n",
            "         [0]]],\n",
            "\n",
            "\n",
            "       [[[0],\n",
            "         [0],\n",
            "         [0],\n",
            "         ...,\n",
            "         [0],\n",
            "         [0],\n",
            "         [0]],\n",
            "\n",
            "        [[0],\n",
            "         [0],\n",
            "         [0],\n",
            "         ...,\n",
            "         [0],\n",
            "         [0],\n",
            "         [0]],\n",
            "\n",
            "        [[0],\n",
            "         [0],\n",
            "         [0],\n",
            "         ...,\n",
            "         [0],\n",
            "         [0],\n",
            "         [0]],\n",
            "\n",
            "        ...,\n",
            "\n",
            "        [[0],\n",
            "         [0],\n",
            "         [0],\n",
            "         ...,\n",
            "         [0],\n",
            "         [0],\n",
            "         [0]],\n",
            "\n",
            "        [[0],\n",
            "         [0],\n",
            "         [0],\n",
            "         ...,\n",
            "         [0],\n",
            "         [0],\n",
            "         [0]],\n",
            "\n",
            "        [[0],\n",
            "         [0],\n",
            "         [0],\n",
            "         ...,\n",
            "         [0],\n",
            "         [0],\n",
            "         [0]]]], dtype=uint8)>, <tf.Tensor: shape=(32,), dtype=int64, numpy=\n",
            "array([5, 1, 0, 9, 4, 1, 4, 1, 2, 6, 3, 0, 1, 5, 5, 7, 5, 7, 7, 7, 6, 3,\n",
            "       4, 8, 5, 0, 5, 7, 8, 3, 9, 2])>)\n"
          ],
          "name": "stdout"
        }
      ]
    },
    {
      "cell_type": "markdown",
      "metadata": {
        "id": "upgNy9mCUp1L"
      },
      "source": [
        "## 학습 후 결과도출\n"
      ]
    },
    {
      "cell_type": "code",
      "metadata": {
        "id": "fZzV0QG5wESd"
      },
      "source": [
        "from keras.callbacks import EarlyStopping\n",
        "from keras.callbacks import ReduceLROnPlateau\n",
        "\n",
        "reduceLR = ReduceLROnPlateau(monitor='loss', patience=3, verbose=1, factor=0.1)\n",
        "\n",
        "earlystopping = EarlyStopping(monitor='loss', verbose=1, patience=15)"
      ],
      "execution_count": 14,
      "outputs": []
    },
    {
      "cell_type": "code",
      "metadata": {
        "id": "pvXbzd27wWzr"
      },
      "source": [
        "def Mnist():\n",
        "  model = tf.keras.Sequential([\n",
        "      \n",
        "    tf.keras.layers.Conv2D(kernel_size=3, filters=16, padding='same', activation='relu', input_shape=[28,28, 1]),\n",
        "    tf.keras.layers.Conv2D(kernel_size=3, filters=32, padding='same', activation='relu'),\n",
        "    tf.keras.layers.MaxPooling2D(pool_size=2),\n",
        "    \n",
        "    tf.keras.layers.Conv2D(kernel_size=3, filters=64, padding='same', activation='relu'),\n",
        "    tf.keras.layers.MaxPooling2D(pool_size=2),\n",
        "    \n",
        "    tf.keras.layers.Conv2D(kernel_size=3, filters=128, padding='same', activation='relu'),\n",
        "    tf.keras.layers.MaxPooling2D(pool_size=2),\n",
        "    \n",
        "    tf.keras.layers.Conv2D(kernel_size=3, filters=256, padding='same', activation='relu'),\n",
        "    \n",
        "    tf.keras.layers.GlobalAveragePooling2D(),\n",
        "    tf.keras.layers.Dense(10,'softmax')\n",
        "  ])\n",
        "\n",
        "  optimizer = tf.keras.optimizers.RMSprop(lr=0.01)\n",
        "  model.compile(loss='sparse_categorical_crossentropy', optimizer=optimizer, metrics=[tf.keras.metrics.SparseCategoricalAccuracy()])\n",
        "  return model"
      ],
      "execution_count": 15,
      "outputs": []
    },
    {
      "cell_type": "code",
      "metadata": {
        "id": "H3p4UTiKlZRo"
      },
      "source": [
        "model = Mnist()"
      ],
      "execution_count": 16,
      "outputs": []
    },
    {
      "cell_type": "code",
      "metadata": {
        "id": "qX9IMO_ilg4B",
        "colab": {
          "base_uri": "https://localhost:8080/"
        },
        "outputId": "8c169716-3840-48ee-f8b3-f78263de0ea9"
      },
      "source": [
        "model.summary()"
      ],
      "execution_count": 17,
      "outputs": [
        {
          "output_type": "stream",
          "text": [
            "Model: \"sequential\"\n",
            "_________________________________________________________________\n",
            "Layer (type)                 Output Shape              Param #   \n",
            "=================================================================\n",
            "conv2d (Conv2D)              (None, 28, 28, 16)        160       \n",
            "_________________________________________________________________\n",
            "conv2d_1 (Conv2D)            (None, 28, 28, 32)        4640      \n",
            "_________________________________________________________________\n",
            "max_pooling2d (MaxPooling2D) (None, 14, 14, 32)        0         \n",
            "_________________________________________________________________\n",
            "conv2d_2 (Conv2D)            (None, 14, 14, 64)        18496     \n",
            "_________________________________________________________________\n",
            "max_pooling2d_1 (MaxPooling2 (None, 7, 7, 64)          0         \n",
            "_________________________________________________________________\n",
            "conv2d_3 (Conv2D)            (None, 7, 7, 128)         73856     \n",
            "_________________________________________________________________\n",
            "max_pooling2d_2 (MaxPooling2 (None, 3, 3, 128)         0         \n",
            "_________________________________________________________________\n",
            "conv2d_4 (Conv2D)            (None, 3, 3, 256)         295168    \n",
            "_________________________________________________________________\n",
            "global_average_pooling2d (Gl (None, 256)               0         \n",
            "_________________________________________________________________\n",
            "dense (Dense)                (None, 10)                2570      \n",
            "=================================================================\n",
            "Total params: 394,890\n",
            "Trainable params: 394,890\n",
            "Non-trainable params: 0\n",
            "_________________________________________________________________\n"
          ],
          "name": "stdout"
        }
      ]
    },
    {
      "cell_type": "code",
      "metadata": {
        "id": "e5oeSpiXMxpg",
        "colab": {
          "base_uri": "https://localhost:8080/"
        },
        "outputId": "895d6afa-948d-4b64-fa20-341c844a2446"
      },
      "source": [
        "model.fit(tfr_dataset, steps_per_epoch=60000//BATCH_SIZE, epochs=5,callbacks=[earlystopping, reduceLR])"
      ],
      "execution_count": 18,
      "outputs": [
        {
          "output_type": "stream",
          "text": [
            "Epoch 1/5\n",
            "1875/1875 [==============================] - 219s 116ms/step - loss: 49.9119 - sparse_categorical_accuracy: 0.6943\n",
            "Epoch 2/5\n",
            "1875/1875 [==============================] - 221s 118ms/step - loss: 0.3634 - sparse_categorical_accuracy: 0.9090\n",
            "Epoch 3/5\n",
            "1875/1875 [==============================] - 222s 118ms/step - loss: 0.2535 - sparse_categorical_accuracy: 0.9400\n",
            "Epoch 4/5\n",
            "1875/1875 [==============================] - 224s 119ms/step - loss: 0.3232 - sparse_categorical_accuracy: 0.9208\n",
            "Epoch 5/5\n",
            "1875/1875 [==============================] - 223s 119ms/step - loss: 0.3238 - sparse_categorical_accuracy: 0.9118\n"
          ],
          "name": "stdout"
        },
        {
          "output_type": "execute_result",
          "data": {
            "text/plain": [
              "<tensorflow.python.keras.callbacks.History at 0x7fb935e4b510>"
            ]
          },
          "metadata": {
            "tags": []
          },
          "execution_count": 18
        }
      ]
    },
    {
      "cell_type": "code",
      "metadata": {
        "id": "3fefYowAzbNK"
      },
      "source": [
        "tfr_testdata = get_dataset('test.tfrecords', \"test\")"
      ],
      "execution_count": 19,
      "outputs": []
    },
    {
      "cell_type": "code",
      "metadata": {
        "id": "v7r2vQtAzh-E",
        "colab": {
          "base_uri": "https://localhost:8080/"
        },
        "outputId": "f2e97a3d-6ffd-4d41-b6ca-97e13f1f6513"
      },
      "source": [
        "model.evaluate(tfr_testdata, )"
      ],
      "execution_count": 20,
      "outputs": [
        {
          "output_type": "stream",
          "text": [
            "313/313 [==============================] - 9s 28ms/step - loss: 0.2384 - sparse_categorical_accuracy: 0.9340\n"
          ],
          "name": "stdout"
        },
        {
          "output_type": "execute_result",
          "data": {
            "text/plain": [
              "[0.2383846938610077, 0.9340000152587891]"
            ]
          },
          "metadata": {
            "tags": []
          },
          "execution_count": 20
        }
      ]
    },
    {
      "cell_type": "code",
      "metadata": {
        "id": "mjuD1-QBwig6"
      },
      "source": [
        ""
      ],
      "execution_count": 20,
      "outputs": []
    }
  ]
}